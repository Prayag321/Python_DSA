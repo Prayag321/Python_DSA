{
 "cells": [
  {
   "cell_type": "markdown",
   "metadata": {},
   "source": [
    "\"\"\"<br>\n",
    "    @Author: Prayag Bhoir<br>\n",
    "    @Date: 16-08-2024 <br>\n",
    "    @Last Modified by: Prayag Bhoir<br>\n",
    "    @Last Modified time: 16-08-2024 <br>\n",
    "    @Title : Python program on searching algorithm<br>\n",
    "\"\"\""
   ]
  },
  {
   "cell_type": "markdown",
   "metadata": {},
   "source": [
    "<marquee><center style=\"\n",
    "  color: #ff0000; \n",
    "  font-size: 50px; \n",
    "  font-weight: bold; \n",
    "  text-shadow: 2px 2px 4px #000000; \n",
    "  padding: 10px; \n",
    "  background-color: #f8f8f8; \n",
    "  border: 2px solid #ff0000; \n",
    "  border-radius: 10px;\n",
    "  display: block;\n",
    "  max-width: 80%;\n",
    "\ttext-transform: uppercase;\n",
    "  margin: 10px auto;\n",
    "\">\n",
    "binary search\n",
    "</center><marquee>"
   ]
  },
  {
   "cell_type": "code",
   "execution_count": 4,
   "metadata": {},
   "outputs": [
    {
     "name": "stdout",
     "output_type": "stream",
     "text": [
      "Element 7 found at index 3.\n"
     ]
    }
   ],
   "source": [
    "def binary_search(arr, target):\n",
    "    \"\"\"\n",
    "    Description:\n",
    "    \tThis function perform a binary search on a sorted list.\n",
    "\n",
    "    Parameters:\n",
    "    \tarr (list): The sorted list to search through.\n",
    "    \ttarget (int): The value to search for.\n",
    "\n",
    "    Returns:\n",
    "    \tint: The index of the target if found, otherwise -1.\n",
    "    \"\"\"\n",
    "    low = 0\n",
    "    high = len(arr) - 1\n",
    "    \n",
    "    while low <= high:\n",
    "        mid = (low + high) // 2\n",
    "        \n",
    "        if arr[mid] == target:\n",
    "            return mid  # Target found at index mid\n",
    "        elif arr[mid] < target:\n",
    "            low = mid + 1  # Search the right half\n",
    "        else:\n",
    "            high = mid - 1  # Search the left half\n",
    "    \n",
    "    return -1  # Target not found\n",
    "\n",
    "def main():\n",
    "    # Example sorted list and target\n",
    "    sorted_list = [1, 3, 5, 7, 9, 11, 13]\n",
    "    target = 7\n",
    "    \n",
    "    # Perform binary search\n",
    "    result = binary_search(sorted_list, target)\n",
    "    \n",
    "    if result != -1:\n",
    "        print(f\"Element {target} found at index {result}.\")\n",
    "    else:\n",
    "        print(f\"Element {target} not found in the list.\")\n",
    "\n",
    "\n",
    "if __name__ == \"__main__\":\n",
    "    main()\n"
   ]
  }
 ],
 "metadata": {
  "kernelspec": {
   "display_name": "Python 3",
   "language": "python",
   "name": "python3"
  },
  "language_info": {
   "codemirror_mode": {
    "name": "ipython",
    "version": 3
   },
   "file_extension": ".py",
   "mimetype": "text/x-python",
   "name": "python",
   "nbconvert_exporter": "python",
   "pygments_lexer": "ipython3",
   "version": "3.12.5"
  }
 },
 "nbformat": 4,
 "nbformat_minor": 2
}
