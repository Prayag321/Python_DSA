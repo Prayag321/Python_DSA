{
 "cells": [
  {
   "cell_type": "markdown",
   "metadata": {},
   "source": [
    "\"\"\"<br>\n",
    "    @Author: Prayag Bhoir<br>\n",
    "    @Date: 14-08-2024 <br>\n",
    "    @Last Modified by: Prayag Bhoir<br>\n",
    "    @Last Modified time: 14-08-2024 <br>\n",
    "    @Title : Python program on data structures<br>\n",
    "\"\"\""
   ]
  },
  {
   "cell_type": "markdown",
   "metadata": {},
   "source": [
    "##  \t\t\t\t\t\t\t\t\t\t\t\t\t\t\t\t\t\tSTACK IMPLEMENTATION"
   ]
  },
  {
   "cell_type": "code",
   "execution_count": 4,
   "metadata": {},
   "outputs": [
    {
     "name": "stdout",
     "output_type": "stream",
     "text": [
      "\n",
      "Stack Operations:\n",
      "1. Push an element onto the stack\n",
      "2. Pop an element from the stack\n",
      "3. Display the stack\n",
      "4. Peak \n",
      "5. Exit\n",
      "Element 1 pushed onto the stack.\n",
      "\n",
      "Stack Operations:\n",
      "1. Push an element onto the stack\n",
      "2. Pop an element from the stack\n",
      "3. Display the stack\n",
      "4. Peak \n",
      "5. Exit\n",
      "Current stack: ['1']\n",
      "\n",
      "Stack Operations:\n",
      "1. Push an element onto the stack\n",
      "2. Pop an element from the stack\n",
      "3. Display the stack\n",
      "4. Peak \n",
      "5. Exit\n",
      "Exiting...\n",
      "Top is at: 1\n",
      "\n",
      "Stack Operations:\n",
      "1. Push an element onto the stack\n",
      "2. Pop an element from the stack\n",
      "3. Display the stack\n",
      "4. Peak \n",
      "5. Exit\n",
      "Exiting...\n",
      "Top is at: 1\n",
      "\n",
      "Stack Operations:\n",
      "1. Push an element onto the stack\n",
      "2. Pop an element from the stack\n",
      "3. Display the stack\n",
      "4. Peak \n",
      "5. Exit\n",
      "Exiting...\n"
     ]
    }
   ],
   "source": [
    "def main():\n",
    "  stack = [] \n",
    "  while True:\n",
    "    print(\"\\nStack Operations:\")\n",
    "    print(\"1. Push an element onto the stack\")\n",
    "    print(\"2. Pop an element from the stack\")\n",
    "    print(\"3. Display the stack\")\n",
    "    print(\"4. Peak \")\n",
    "    print(\"5. Exit\")\n",
    "\n",
    "    choice = input(\"Enter your choice (1/2/3/4): \")\n",
    "\n",
    "    match choice:\n",
    "      case \"1\":\n",
    "        element = input(\"Enter the element to push onto the stack: \")\n",
    "        stack.append(element)\n",
    "        print(f\"Element {element} pushed onto the stack.\")\n",
    "        \n",
    "      case \"2\":\n",
    "        if stack:\n",
    "          removed_element = stack.pop() #return remove value\n",
    "          print(f\"Element {removed_element} popped from the stack.\")\n",
    "        else:\n",
    "          print(\"Stack is empty. Cannot pop an element.\")\n",
    "        \n",
    "      case \"3\":\n",
    "        print(\"Current stack:\", stack)\n",
    "        \n",
    "      case \"4\":\n",
    "        print(f\"Top is at: {len(stack)}\")\n",
    "      \n",
    "      case \"5\":\n",
    "        print(\"Exiting...\")\n",
    "        break\n",
    "        \n",
    "      case _:\n",
    "        print(\"Invalid choice. Please enter 1, 2, 3, or 4.\")\n",
    "\n",
    "if __name__ == \"__main__\":\n",
    "  main()\n"
   ]
  },
  {
   "cell_type": "markdown",
   "metadata": {},
   "source": [
    "## 1. Reverce the string using stack"
   ]
  },
  {
   "cell_type": "code",
   "execution_count": 10,
   "metadata": {},
   "outputs": [
    {
     "name": "stdout",
     "output_type": "stream",
     "text": [
      "the Reversed name is: ved\n"
     ]
    }
   ],
   "source": [
    "def reverse_name(name):\n",
    "\t\"\"\"\n",
    "\tDescription:\n",
    "\t\tThis function reverse the input string using stack\n",
    "\tParameters:\n",
    "\t\tname(str):Given name string\n",
    "\tReturn:\n",
    "\t\treversed_name : The reversed string\n",
    "\t\"\"\"\n",
    "\tstack = []\n",
    "\treversed_name = ''\n",
    "\tn = len(name)\n",
    "\n",
    "\tfor i in range(n):\n",
    "\t\tstack.append(name[i])\n",
    "\t\t \n",
    "\tfor i in range(n):\n",
    "\t\treversed_name += stack.pop()\n",
    "\n",
    "\treturn reversed_name\n",
    "\n",
    "def main():\n",
    "\tname = input(\"Enter the name to reverse: \")\n",
    "\tprint(f'the Reversed name is: {reverse_name(name)}')\n",
    "\n",
    "if __name__ == \"__main__\":\n",
    "  main()\n"
   ]
  }
 ],
 "metadata": {
  "kernelspec": {
   "display_name": "Python 3",
   "language": "python",
   "name": "python3"
  },
  "language_info": {
   "codemirror_mode": {
    "name": "ipython",
    "version": 3
   },
   "file_extension": ".py",
   "mimetype": "text/x-python",
   "name": "python",
   "nbconvert_exporter": "python",
   "pygments_lexer": "ipython3",
   "version": "3.12.5"
  }
 },
 "nbformat": 4,
 "nbformat_minor": 2
}
